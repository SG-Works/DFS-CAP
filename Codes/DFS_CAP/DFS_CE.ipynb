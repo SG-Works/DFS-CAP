{
 "cells": [
  {
   "cell_type": "code",
   "execution_count": 1,
   "metadata": {},
   "outputs": [],
   "source": [
    "import time\n",
    "M = 5\n",
    "N = 5"
   ]
  },
  {
   "cell_type": "code",
   "execution_count": 2,
   "metadata": {
    "jupyter": {
     "source_hidden": true
    },
    "tags": []
   },
   "outputs": [],
   "source": [
    "class def_episode:\n",
    "    def __init__(self, evnts, edge_set, lastevnt, pred, succ):\n",
    "        self.freq = 0\n",
    "        self.evnts = evnts.copy()\n",
    "        self.edges = edge_set.copy()\n",
    "        self.lastevnt = lastevnt\n",
    "        self.pred = pred.copy()\n",
    "        self.succ = succ.copy()\n",
    "        # self.appclosed = True "
   ]
  },
  {
   "cell_type": "code",
   "execution_count": 3,
   "metadata": {
    "jupyter": {
     "source_hidden": true
    },
    "tags": []
   },
   "outputs": [],
   "source": [
    "def CENOX_Span_Recursive(ParentBlock):\n",
    "    global candidates, frequents, Freq_ep\n",
    "    \n",
    "    ChildBlock = list()\n",
    "    parent_epi = ParentBlock[-1]\n",
    "    last_event = parent_epi.lastevnt\n",
    "    parent_len = len(parent_epi.evnts)\n",
    "    \n",
    "    Freq_ep.append(parent_epi)\n",
    "    frequents += 1\n",
    "    if len(parent_epi.evnts) >= N:\n",
    "        return\n",
    "    \n",
    "    \n",
    "    for helper_epi in ParentBlock:\n",
    "        \n",
    "        new_event = helper_epi.lastevnt\n",
    "        Y0_events = parent_epi.evnts + [new_event]\n",
    "        # Y0_edges = parent_epi.edges + helper_epi.edges\n",
    "        Y0_edges = parent_epi.edges.copy()\n",
    "        pred = helper_epi.pred\n",
    "        succ = helper_epi.succ\n",
    "        for ev_id in pred:\n",
    "            Y0_edges.add((ev_id,parent_len))\n",
    "        for ev_id in succ:\n",
    "            Y0_edges.add((parent_len,ev_id))\n",
    "        \n",
    "        \n",
    "        ValidEdges = ValidateEdges(parent_epi.pred,parent_epi.succ,helper_epi.pred,helper_epi.succ)\n",
    "\n",
    "        if parent_epi.lastevnt != helper_epi.lastevnt:\n",
    "            \n",
    "            candidates += sum(ValidEdges)\n",
    "\n",
    "            if ValidEdges[1]:\n",
    "                Y1 = def_episode(Y0_events,Y0_edges|{(parent_len-1, parent_len)}, new_event, pred|{parent_len-1}, succ)\n",
    "                ChildBlock.append(Y1)\n",
    "                CENOX_Span_Recursive(ChildBlock,)\n",
    "            \n",
    "            if ValidEdges[0]:\n",
    "                Y0 = def_episode(Y0_events, Y0_edges, new_event, pred, succ)\n",
    "                ChildBlock.append(Y0)\n",
    "                CENOX_Span_Recursive(ChildBlock)\n",
    "            \n",
    "            if ValidEdges[2]: \n",
    "                Y2 = def_episode(Y0_events,Y0_edges|{(parent_len, parent_len-1)}, new_event, pred, succ|{parent_len-1})\n",
    "                ChildBlock.append(Y2)\n",
    "                CENOX_Span_Recursive(ChildBlock)\n",
    "        else:\n",
    "            if ValidEdges[1]:\n",
    "                candidates += 1\n",
    "                Y0_edges.add((parent_len-1,parent_len))\n",
    "                Y1 = def_episode(Y0_events,Y0_edges|{(parent_len-1, parent_len)}, new_event, pred|{parent_len-1}, succ)\n",
    "                ChildBlock.append(Y1)\n",
    "                CENOX_Span_Recursive(ChildBlock)\n",
    "\n",
    "    return"
   ]
  },
  {
   "cell_type": "code",
   "execution_count": 4,
   "metadata": {
    "jupyter": {
     "source_hidden": true
    },
    "tags": []
   },
   "outputs": [],
   "source": [
    "def ValidateEdges(predp,succp,predh,succh):\n",
    "    Validity = list([False,False,False])\n",
    "    if (succp & predh):\n",
    "        Validity[1] = True\n",
    "    elif (succh & predp):\n",
    "        Validity[2] = True\n",
    "    else:\n",
    "        Validity[0] = True\n",
    "        if not (predp-predh | succh-succp):\n",
    "            Validity[1] = True\n",
    "        if not (predh-predp | succp-succh):\n",
    "            Validity[2] = True\n",
    "    return Validity"
   ]
  },
  {
   "cell_type": "code",
   "execution_count": 5,
   "metadata": {
    "jupyter": {
     "source_hidden": true
    },
    "scrolled": true,
    "tags": []
   },
   "outputs": [
    {
     "name": "stdout",
     "output_type": "stream",
     "text": [
      "time:  0.5003988742828369\n",
      "Number of closed frequent episodes is  49601\n"
     ]
    }
   ],
   "source": [
    "global candidates, frequents, Freq_ep\n",
    "\n",
    "time_start = time.time()\n",
    "\n",
    "alph = list()\n",
    "F1_ep = list()\n",
    "freq_alph = list()\n",
    "for ev in range(M):\n",
    "    alph.append(str(ev))\n",
    "    F1_ep.append(def_episode([str(ev)],set(),str(ev),set(),set()))\n",
    "\n",
    "\n",
    "candidates = len(alph)\n",
    "frequents = 0\n",
    "Freq_ep = list()\n",
    "Block = list()\n",
    "for parent_epi in F1_ep:\n",
    "    Block.append(parent_epi)\n",
    "    E = parent_epi.lastevnt\n",
    "    CENOX_Span_Recursive(Block)\n",
    "        \n",
    "\n",
    "    \n",
    "time_end = time.time()\n",
    "time_run = time_end-time_start\n",
    "print(\"time: \", time_run)\n",
    "print(\"Number of closed frequent episodes is \", len(Freq_ep))\n",
    "\n",
    "# print('The following are the frequent episodes discovered')\n",
    "# for ep in Freq_closed_ep:\n",
    "#     print(ep.freq ,':', ep.evnts)#, ep.edges) \n"
   ]
  },
  {
   "cell_type": "code",
   "execution_count": 6,
   "metadata": {
    "tags": []
   },
   "outputs": [
    {
     "name": "stdout",
     "output_type": "stream",
     "text": [
      "49601 49601 49601\n"
     ]
    }
   ],
   "source": [
    "print(candidates, frequents, len(Freq_ep))"
   ]
  },
  {
   "cell_type": "code",
   "execution_count": 7,
   "metadata": {},
   "outputs": [
    {
     "name": "stdout",
     "output_type": "stream",
     "text": [
      "[5, 35, 315, 3480, 45766]\n"
     ]
    }
   ],
   "source": [
    "level_counter = [0]*N\n",
    "for ep in Freq_ep:\n",
    "    level_counter[len(ep.evnts)-1] += 1\n",
    "print(level_counter)"
   ]
  },
  {
   "cell_type": "code",
   "execution_count": 8,
   "metadata": {},
   "outputs": [],
   "source": [
    "# for ep in Freq_ep:\n",
    "#     if len(ep.evnts) == 3:\n",
    "#         print(ep.evnts, ep.edges)"
   ]
  }
 ],
 "metadata": {
  "kernelspec": {
   "display_name": "Python 3 (ipykernel)",
   "language": "python",
   "name": "python3"
  },
  "language_info": {
   "codemirror_mode": {
    "name": "ipython",
    "version": 3
   },
   "file_extension": ".py",
   "mimetype": "text/x-python",
   "name": "python",
   "nbconvert_exporter": "python",
   "pygments_lexer": "ipython3",
   "version": "3.10.12"
  }
 },
 "nbformat": 4,
 "nbformat_minor": 4
}
