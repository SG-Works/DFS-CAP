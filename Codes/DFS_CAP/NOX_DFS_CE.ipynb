{
 "cells": [
  {
   "cell_type": "code",
   "execution_count": 12,
   "metadata": {},
   "outputs": [],
   "source": [
    "import time\n",
    "# from math import log2"
   ]
  },
  {
   "cell_type": "code",
   "execution_count": 13,
   "metadata": {
    "jupyter": {
     "source_hidden": true
    },
    "tags": []
   },
   "outputs": [],
   "source": [
    "class def_episode:\n",
    "    def __init__(self, evnts, edge_set, lastevnt, pred, succ):\n",
    "        self.freq = 0\n",
    "        self.evnts = evnts.copy()\n",
    "        self.edges = edge_set.copy()\n",
    "        self.lastevnt = lastevnt\n",
    "        self.pred = pred.copy()\n",
    "        self.succ = succ.copy()\n",
    "        self.fclosed = True\n",
    "        # self.appclosed = True "
   ]
  },
  {
   "cell_type": "code",
   "execution_count": 14,
   "metadata": {
    "jupyter": {
     "source_hidden": true
    },
    "tags": []
   },
   "outputs": [],
   "source": [
    "def CENOX_Span_Recursive(ParentBlock,AO_list_parent,AO_windows_parent,Tx,FT):\n",
    "    global candidates, frequents, Freq_ep\n",
    "    \n",
    "    closed = True\n",
    "    ChildBlock = list()\n",
    "    parent_epi = ParentBlock[-1]\n",
    "    last_event = parent_epi.lastevnt\n",
    "    parent_len = len(parent_epi.evnts)\n",
    "    \n",
    "    for helper_epi in ParentBlock:\n",
    "        \n",
    "        new_event = helper_epi.lastevnt\n",
    "        Y0_events = parent_epi.evnts + [new_event]\n",
    "        # Y0_edges = parent_epi.edges + helper_epi.edges\n",
    "        Y0_edges = parent_epi.edges.copy()\n",
    "        pred = helper_epi.pred\n",
    "        succ = helper_epi.succ\n",
    "        for ev_id in pred:\n",
    "            Y0_edges.add((ev_id,parent_len))\n",
    "        for ev_id in succ:\n",
    "            Y0_edges.add((parent_len,ev_id))\n",
    "        \n",
    "        \n",
    "        ValidEdges = ValidateEdges(parent_epi.pred,parent_epi.succ,helper_epi.pred,helper_epi.succ)\n",
    "\n",
    "        if parent_epi.lastevnt != helper_epi.lastevnt:\n",
    "            \n",
    "            candidates += sum(ValidEdges)\n",
    "\n",
    "            if ValidEdges[0] or (ValidEdges[1] and ValidEdges[2]):\n",
    "                AO_list_Y0, AO_windows_Y0 = Compute_AO_Span_list(AO_list_parent, AO_windows_parent, new_event, pred, succ, Tx)\n",
    "                NO_freq_Y0 = Find_NO_Count(AO_windows_Y0)\n",
    "                # NO_freq_Y0, BE_Y0 = Find_NOBE_Count(AO_list_Y0, AO_windows_Y0)\n",
    "                # if Y0_events == ['5','5','3'] and Y0_edges == {(0,1)}:\n",
    "                #     NO_freq_Y0, BE_Y0 = Find_NOBE_Count2(AO_list_Y0, AO_windows_Y0)\n",
    "                #     # NO_freq_Y0, BE_Y0 = Find_NOBE_Count(AO_list_Y0, AO_windows_Y0)\n",
    "                # else:\n",
    "                #     NO_freq_Y0, BE_Y0 = Find_NOBE_Count(AO_list_Y0, AO_windows_Y0)\n",
    "                if NO_freq_Y0 < FT:\n",
    "                    continue\n",
    "\n",
    "            AO_list_Y1 = list()\n",
    "            AO_windows_Y1 = list()\n",
    "            AO_list_Y2 = list()\n",
    "            AO_windows_Y2 = list()\n",
    "\n",
    "            if ValidEdges[1] and ValidEdges[2]:\n",
    "                for k in range(len(AO_list_Y0)):\n",
    "                    if AO_list_Y0[k][-2] < AO_list_Y0[k][-1]:\n",
    "                        AO_list_Y1.append(AO_list_Y0[k])\n",
    "                        AO_windows_Y1.append(AO_windows_Y0[k])\n",
    "                    elif AO_list_Y0[k][-2] > AO_list_Y0[k][-1]:\n",
    "                        AO_list_Y2.append(AO_list_Y0[k])\n",
    "                        AO_windows_Y2.append(AO_windows_Y0[k])\n",
    "            elif ValidEdges[0]:\n",
    "                if ValidEdges[1]:\n",
    "                    for k in range(len(AO_list_Y0)):\n",
    "                        if AO_list_Y0[k][-2] < AO_list_Y0[k][-1]:\n",
    "                            AO_list_Y1.append(AO_list_Y0[k])\n",
    "                            AO_windows_Y1.append(AO_windows_Y0[k])\n",
    "                elif ValidEdges[2]:\n",
    "                    for k in range(len(AO_list_Y0)):\n",
    "                        if AO_list_Y0[k][-2] > AO_list_Y0[k][-1]:\n",
    "                            AO_list_Y2.append(AO_list_Y0[k])\n",
    "                            AO_windows_Y2.append(AO_windows_Y0[k])\n",
    "            elif ValidEdges[1]:\n",
    "                AO_list_Y1, AO_windows_Y1 = Compute_AO_Span_list(AO_list_parent, AO_windows_parent, new_event, pred|{parent_len-1}, succ, Tx)\n",
    "            elif ValidEdges[2]:\n",
    "                AO_list_Y2, AO_windows_Y2 = Compute_AO_Span_list(AO_list_parent, AO_windows_parent, new_event, pred, succ|{parent_len-1}, Tx)\n",
    "\n",
    "            if ValidEdges[1]:\n",
    "                NO_freq_Y1 = Find_NO_Count(AO_windows_Y1)\n",
    "                # if Y0_events == ['5','5','3']:\n",
    "                #     print(NO_freq_Y1,Y0_events, Y0_edges|{(parent_len-1, parent_len)})\n",
    "                if NO_freq_Y1 >= FT:\n",
    "                    if NO_freq_Y1 == parent_epi.freq:\n",
    "                        closed = False\n",
    "                        parent_epi.fclosed = False\n",
    "                    if NO_freq_Y1 == helper_epi.freq:\n",
    "                        helper_epi.fclosed = False\n",
    "                    # if NO_freq_Y1/parent_epi.freq > 0.5:\n",
    "                    #     parent_epi.appclosed = False\n",
    "                    # if NO_freq_Y1/helper_epi.freq > 0.5:\n",
    "                    #     helper_epi.appclosed = False\n",
    "                    Y1 = def_episode(Y0_events,Y0_edges|{(parent_len-1, parent_len)}, new_event, pred|{parent_len-1}, succ)\n",
    "                    Y1.freq = NO_freq_Y1\n",
    "                    ChildBlock.append(Y1)\n",
    "                    CENOX_Span_Recursive(ChildBlock,AO_list_Y1,AO_windows_Y1,Tx,FT)\n",
    "            \n",
    "            if ValidEdges[0]:# and BE_Y0 > BET:\n",
    "                # if Y0_events == ['5','5','3'] and Y0_edges == {(0,1)}:\n",
    "                #     print(NO_freq_Y0, BE_Y0, Y0_events, Y0_edges)\n",
    "                if NO_freq_Y0 == parent_epi.freq:\n",
    "                    closed = False\n",
    "                    parent_epi.fclosed = False\n",
    "                if NO_freq_Y0 == helper_epi.freq:\n",
    "                    helper_epi.fclosed = False\n",
    "                # if NO_freq_Y0/parent_epi.freq > 0.5:\n",
    "                #     parent_epi.appclosed = False\n",
    "                # if NO_freq_Y0/helper_epi.freq > 0.5:\n",
    "                #     helper_epi.appclosed = False\n",
    "                Y0 = def_episode(Y0_events, Y0_edges, new_event, pred, succ)\n",
    "                Y0.freq = NO_freq_Y0\n",
    "                ChildBlock.append(Y0)\n",
    "                CENOX_Span_Recursive(ChildBlock,AO_list_Y0,AO_windows_Y0,Tx,FT)\n",
    "            \n",
    "            if ValidEdges[2]:   \n",
    "                NO_freq_Y2 = Find_NO_Count(AO_windows_Y2)\n",
    "                # if Y0_events == ['5','5','3']:\n",
    "                #     print(NO_freq_Y2,Y0_events, Y0_edges|{(parent_len, parent_len-1)})\n",
    "                if NO_freq_Y2 >= FT:\n",
    "                    if NO_freq_Y2 == parent_epi.freq:\n",
    "                        closed = False\n",
    "                        parent_epi.fclosed = False\n",
    "                    if NO_freq_Y2 == helper_epi.freq:\n",
    "                        helper_epi.fclosed = False\n",
    "                    # if NO_freq_Y2/parent_epi.freq > 0.5:\n",
    "                    #     parent_epi.appclosed = False\n",
    "                    # if NO_freq_Y2/helper_epi.freq > 0.5:\n",
    "                    #     helper_epi.appclosed = False\n",
    "                    Y2 = def_episode(Y0_events,Y0_edges|{(parent_len, parent_len-1)}, new_event, pred, succ|{parent_len-1})\n",
    "                    Y2.freq = NO_freq_Y2\n",
    "                    ChildBlock.append(Y2)\n",
    "                    CENOX_Span_Recursive(ChildBlock,AO_list_Y2,AO_windows_Y2,Tx,FT)\n",
    "        else:\n",
    "            if ValidEdges[1]:\n",
    "                candidates += 1\n",
    "                Y0_edges.add((parent_len-1,parent_len))\n",
    "                AO_list_Y1, AO_windows_Y1 = Compute_AO_Span_list(AO_list_parent, AO_windows_parent, new_event, pred|{parent_len-1}, succ, Tx)\n",
    "                NO_freq_Y1 = Find_NO_Count(AO_windows_Y1)\n",
    "                # if Y0_events == ['5','5','3','3']:\n",
    "                #     print(parent_epi.evnts, parent_epi.edges)\n",
    "                #     print(helper_epi.evnts, helper_epi.edges,'\\n')\n",
    "                #     print(NO_freq_Y1,Y0_events, Y0_edges|{(parent_len-1, parent_len)})\n",
    "                if NO_freq_Y1 >= FT:\n",
    "                    if NO_freq_Y1 == parent_epi.freq:\n",
    "                        closed = False\n",
    "                        parent_epi.fclosed = False\n",
    "                    if NO_freq_Y1 == helper_epi.freq:\n",
    "                        helper_epi.fclosed = False\n",
    "                    # if NO_freq_Y1/parent_epi.freq > 0.5:\n",
    "                    #     parent_epi.appclosed = False\n",
    "                    # if NO_freq_Y1/helper_epi.freq > 0.5:\n",
    "                    #     helper_epi.appclosed = False\n",
    "                    Y1 = def_episode(Y0_events,Y0_edges|{(parent_len-1, parent_len)}, new_event, pred|{parent_len-1}, succ)\n",
    "                    Y1.freq = NO_freq_Y1\n",
    "                    ChildBlock.append(Y1)\n",
    "                    CENOX_Span_Recursive(ChildBlock,AO_list_Y1,AO_windows_Y1,Tx,FT)\n",
    "\n",
    "    if closed:\n",
    "        Freq_ep.append(parent_epi)\n",
    "    frequents += 1\n",
    "        \n",
    "    return Freq_ep\n",
    "\n"
   ]
  },
  {
   "cell_type": "code",
   "execution_count": 15,
   "metadata": {
    "jupyter": {
     "source_hidden": true
    },
    "tags": []
   },
   "outputs": [],
   "source": [
    "def ValidateEdges(predp,succp,predh,succh):\n",
    "    Validity = list([False,False,False])\n",
    "    if (succp & predh):\n",
    "        Validity[1] = True\n",
    "    elif (succh & predp):\n",
    "        Validity[2] = True\n",
    "    else:\n",
    "        Validity[0] = True\n",
    "        if not (predp-predh | succh-succp):\n",
    "            Validity[1] = True\n",
    "        if not (predh-predp | succp-succh):\n",
    "            Validity[2] = True\n",
    "    return Validity"
   ]
  },
  {
   "cell_type": "code",
   "execution_count": 16,
   "metadata": {
    "jupyter": {
     "source_hidden": true
    },
    "tags": []
   },
   "outputs": [],
   "source": [
    "def Compute_AO_Span_list(AO_list_parent, AO_windows_parent, new_event, pred, succ, Tx):\n",
    "    global AO_list\n",
    "    AO_list_child = list()\n",
    "    AO_windows_child = list()\n",
    "    for k in range(len(AO_list_parent)):\n",
    "        occ_tuple = AO_list_parent[k]\n",
    "        occ_win = AO_windows_parent[k]\n",
    "        if not pred:\n",
    "            st = occ_win[1]-Tx\n",
    "        else:\n",
    "            st = max([occ_tuple[id] for id in pred])+1\n",
    "        if not succ:\n",
    "            end = occ_win[0]+Tx+1\n",
    "        else:\n",
    "            end = min([occ_tuple[id] for id in succ])\n",
    "        for tm in range(st,end):\n",
    "            if tm in AO_list[new_event]:\n",
    "                AO_list_child.append(occ_tuple+[tm])\n",
    "                AO_windows_child.append((min(occ_win[0],tm),max(occ_win[1],tm)))\n",
    "    return AO_list_child, AO_windows_child\n",
    "                "
   ]
  },
  {
   "cell_type": "code",
   "execution_count": 17,
   "metadata": {
    "jupyter": {
     "source_hidden": true
    },
    "tags": []
   },
   "outputs": [],
   "source": [
    "def Find_NO_Count(ep_AO_win):\n",
    "    l = len(ep_AO_win)\n",
    "    if l == 0:\n",
    "        return l\n",
    "    ts = -1\n",
    "    te = -1\n",
    "    fno = 0\n",
    "    for win in ep_AO_win:\n",
    "        if win[0] > te:\n",
    "            fno += 1\n",
    "            ts = te\n",
    "            te = win[1]\n",
    "        elif win[0] > ts and win[1] < te:\n",
    "            te = win[1]\n",
    "    return fno"
   ]
  },
  {
   "cell_type": "code",
   "execution_count": 18,
   "metadata": {
    "jupyter": {
     "source_hidden": true
    },
    "tags": []
   },
   "outputs": [],
   "source": [
    "def Find_NOBE_Count(ep_AO_list, ep_AO_win):\n",
    "    global occs, wins\n",
    "    occs = ep_AO_list.copy()\n",
    "    wins = ep_AO_win.copy()\n",
    "    # for occ in ep_AO_list:\n",
    "    #     print(occ)\n",
    "    l = len(ep_AO_win)\n",
    "    if l == 0:\n",
    "        return l,l\n",
    "#     ts,te = ep_AO_win[0]\n",
    "    ts = -1\n",
    "    te = ep_AO_win[0][1]\n",
    "    # forwardflag = ep_AO_list[0][-2] < ep_AO_list[0][-1]\n",
    "    fno = 1\n",
    "    forwardcount = 0\n",
    "    if ep_AO_list[0][-2] < ep_AO_list[0][-1]:\n",
    "        forwardcount += 1\n",
    "    for k in range(1,l):\n",
    "        win = ep_AO_win[k]\n",
    "        # print(win)\n",
    "        if ep_AO_list[k][-2] < ep_AO_list[k][-1]:\n",
    "            forwardcount += 1\n",
    "        if win[0] > te:\n",
    "            # if forwardflag:\n",
    "            #     forwardcount += 1\n",
    "#             if reverseflag:\n",
    "#                 reverseflag += 1\n",
    "            fno += 1\n",
    "            ts = te\n",
    "            te = win[1]\n",
    "            # forwardflag = ep_AO_list[k][-2] < ep_AO_list[k][-1]\n",
    "        elif win[0] > ts and win[1] < te:\n",
    "            # forwardflag = ep_AO_list[k][-2] < ep_AO_list[k][-1]\n",
    "#             reverseflag = ep_AO_list[k][-1] < ep_AO_list[k][-2]\n",
    "            te = win[1]\n",
    "    # forwardprob = forwardcount/fno\n",
    "    \n",
    "    forwardprob = forwardcount/l\n",
    "    # print(forwardprob, fno, l)\n",
    "    if forwardprob == 0 or forwardprob == 1:\n",
    "        BE = 0\n",
    "    else:\n",
    "        BE = -forwardprob*log2(forwardprob)-(1-forwardprob)*log2(1-forwardprob)\n",
    "    return fno, BE"
   ]
  },
  {
   "cell_type": "code",
   "execution_count": 19,
   "metadata": {
    "jupyter": {
     "source_hidden": true
    },
    "scrolled": true,
    "tags": []
   },
   "outputs": [],
   "source": [
    "def Find_Closed_levelwise(Freq_ep):\n",
    "    hasher = {}\n",
    "    hashtable = list()\n",
    "    count = 0\n",
    "    for ep in Freq_ep:\n",
    "        fn = ep.freq\n",
    "        if fn not in hasher:\n",
    "            hasher[fn] = count\n",
    "            hashtable.append(list([ep]))\n",
    "            count += 1\n",
    "        else:\n",
    "            hashtable[hasher[fn]].append(ep)\n",
    "\n",
    "    Freq_closed_ep = list()\n",
    "    for k in range(len(hashtable)):\n",
    "        len_hash_k = len(hashtable[k])\n",
    "        p = 0\n",
    "        while p < len_hash_k:\n",
    "            q = 0\n",
    "            \n",
    "            \n",
    "            while q < p:# and p < len_hash_k:\n",
    "                # print(p,q,len_hash_k)\n",
    "                if hashtable[k][p].evnts == hashtable[k][q].evnts:\n",
    "                    if hashtable[k][p].edges.issubset(hashtable[k][q].edges):\n",
    "                        hashtable[k].remove(hashtable[k][p])\n",
    "                        len_hash_k -= 1\n",
    "                        p -= 1\n",
    "                        break\n",
    "                    if hashtable[k][q].edges.issubset(hashtable[k][p].edges):\n",
    "                        hashtable[k].remove(hashtable[k][q])\n",
    "                        len_hash_k -= 1 #len(hashtable[k])\n",
    "                        q -= 1\n",
    "                        p -= 1\n",
    "                q += 1\n",
    "            p += 1\n",
    "            \n",
    "            \n",
    "            \n",
    "#             if p == q:\n",
    "#                 q += 1\n",
    "#             while q < len_hash_k:\n",
    "#                 if hashtable[k][p].evnts == hashtable[k][q].evnts:\n",
    "#                     if hashtable[k][p].edges.issubset(hashtable[k][q].edges):\n",
    "#                         hashtable[k].remove(hashtable[k][p])\n",
    "#                         len_hash_k -= 1 #len(hashtable[k])\n",
    "#                         q = -1\n",
    "#                         break\n",
    "#                 q += 1\n",
    "#                 if p == q:\n",
    "#                     q += 1\n",
    "                    \n",
    "#             if q != -1:\n",
    "#                 p += 1\n",
    "    \n",
    "    \n",
    "    for fc_eps in hashtable:\n",
    "        Freq_closed_ep += fc_eps\n",
    "\n",
    "    return Freq_closed_ep\n",
    "\n",
    "# Freq_closed_ep = Find_Closed_levelwise(Freq2_ep)"
   ]
  },
  {
   "cell_type": "code",
   "execution_count": 27,
   "metadata": {
    "tags": []
   },
   "outputs": [
    {
     "name": "stdout",
     "output_type": "stream",
     "text": [
      "Dataset: ./../../DataReal/whale_numdata.txt\n",
      "Expiry time: 5\n",
      "Frequency Threshold: 30\n"
     ]
    }
   ],
   "source": [
    "global alph, evnt_id, AO_list\n",
    "\n",
    "evnt_strm = list()\n",
    "\n",
    "# print('Enter the link of the txt file containing the event stream (for example: ./../../DataSynthetic/Dataspecs1_Dataset_M=60_N=2_rho=0.055_p=0.07_eta=0.7_T=10000_evnt_strm_set=0.txt)')\n",
    "# name = input()\n",
    "# print('Enter the Expiry time \"Tx\": (Better option would be (lenght of the longest pattern)/eta)')\n",
    "# Tx = int(input())\n",
    "# print('Enter the frequency threshold \"FT\": (Better option would be T/(1/p+Tx) -1)')\n",
    "# FT = int(input())   \n",
    "# print('Enter the Bidirectional Evidence threshold \"BET\": (Better option would be 0.4)')\n",
    "# BET = float(input())   \n",
    "\n",
    "\n",
    "# name = sys.argv[1]\n",
    "# Tx = float(sys.argv[2])\n",
    "# FT = float(sys.argv[3])\n",
    "# BET = float(sys.argv[4]) \n",
    "\n",
    "name = './../../DataSynthetic2/Dataspecs1_Dataset_M=60_N=2_rho=0.03_p=0.03_eta=0.5_T=10000_evnt_strm_set=0.txt'\n",
    "Tx = 20\n",
    "FT = 185\n",
    "# BET = 0.4\n",
    "\n",
    "name = './../../DataReal/whale_numdata.txt'\n",
    "Tx = 5\n",
    "FT = 30\n",
    "\n",
    "print(\"Dataset: \"+ name)\n",
    "print(\"Expiry time: \"+ str(Tx))\n",
    "print(\"Frequency Threshold: \"+ str(FT))\n",
    "# print(\"Bidirectional Evidence: \"+ str(BET))"
   ]
  },
  {
   "cell_type": "code",
   "execution_count": 28,
   "metadata": {
    "jupyter": {
     "source_hidden": true
    },
    "scrolled": true,
    "tags": []
   },
   "outputs": [
    {
     "name": "stdout",
     "output_type": "stream",
     "text": [
      "Number of frequent episodes is  1845\n",
      "time:  3.6091253757476807\n",
      "Number of closed frequent episodes is  1787\n"
     ]
    }
   ],
   "source": [
    "global candidates, frequents, Freq_ep\n",
    "\n",
    "time_start = time.time()\n",
    "\n",
    "alph_org = set()\n",
    "evnt_id = {}\n",
    "AO_list = {}\n",
    "count = 0\n",
    "with open(name,'r') as f:\n",
    "    for line in f:\n",
    "        entry = line.split(',')\n",
    "        event = entry[0]\n",
    "        tm = int(entry[1][:-1])\n",
    "        if event not in alph_org:\n",
    "            alph_org.add(event)\n",
    "            evnt_id[event] = count\n",
    "            \n",
    "            AO_list[event] = set()\n",
    "            count += 1\n",
    "        AO_list[event].add(tm)\n",
    "\n",
    "alph = list()\n",
    "F1_ep = list()\n",
    "freq_alph = list()\n",
    "for ev in alph_org:\n",
    "    fr = len(AO_list[ev])\n",
    "    if fr >= FT:\n",
    "        freq_alph.append([fr,ev])\n",
    "\n",
    "freq_alph.sort(reverse = True)\n",
    "for (fr,ev) in freq_alph:\n",
    "    alph.append(ev)\n",
    "    F1_ep.append(def_episode([ev],set(),ev,set(),set()))\n",
    "    F1_ep[-1].freq = fr\n",
    "\n",
    "candidates = len(alph_org)\n",
    "frequents = 0\n",
    "Freq_ep = list()\n",
    "Block = list()\n",
    "for parent_epi in F1_ep:\n",
    "    Block.append(parent_epi)\n",
    "    E = parent_epi.lastevnt\n",
    "    AO_list_E = list(AO_list[E])\n",
    "    AO_list_E.sort()\n",
    "    AO_windows_E = list(map(lambda el:(el,el), AO_list_E))\n",
    "    AO_list_E = list(map(lambda el:[el], AO_list_E))\n",
    "    CENOX_Span_Recursive(Block,AO_list_E,AO_windows_E,Tx,FT)\n",
    "        \n",
    "Freq2_ep = []\n",
    "for ep in Freq_ep:\n",
    "    if ep.fclosed == True:\n",
    "        Freq2_ep.append(ep)\n",
    "        \n",
    "print(\"Number of frequent episodes is \", len(Freq2_ep))\n",
    "# for ep in Freq_ep:\n",
    "#     print(ep.freq ,':', ep.evnts, ep.edges)\n",
    "    \n",
    "Freq_closed_ep = Find_Closed_levelwise(Freq2_ep)\n",
    "    \n",
    "time_end = time.time()\n",
    "time_run = time_end-time_start\n",
    "print(\"time: \", time_run)\n",
    "print(\"Number of closed frequent episodes is \", len(Freq_closed_ep))\n",
    "\n",
    "# print('The following are the frequent episodes discovered')\n",
    "# for ep in Freq_closed_ep:\n",
    "#     print(ep.freq ,':', ep.evnts)#, ep.edges) \n"
   ]
  },
  {
   "cell_type": "code",
   "execution_count": 29,
   "metadata": {
    "tags": []
   },
   "outputs": [
    {
     "name": "stdout",
     "output_type": "stream",
     "text": [
      "110377 1848 1845 1845 1787\n"
     ]
    }
   ],
   "source": [
    "print(candidates, frequents, len(Freq_ep), len(Freq2_ep), len(Freq_closed_ep))"
   ]
  },
  {
   "cell_type": "code",
   "execution_count": 30,
   "metadata": {
    "tags": []
   },
   "outputs": [
    {
     "name": "stdout",
     "output_type": "stream",
     "text": [
      "[227, 1200, 411, 7, 0, 0, 0, 0, 0, 0]\n"
     ]
    }
   ],
   "source": [
    "# for ep in Freq_closed_ep:\n",
    "#     if len(ep.evnts) == 6:\n",
    "#         print(ep.freq ,':', ep.evnts, '\\n', ep.edges, '\\n')\n",
    "\n",
    "level_counter = [0]*10\n",
    "for ep in Freq_ep:\n",
    "    level_counter[len(ep.evnts)-1] += 1\n",
    "    # if len(ep.evnts) == 2:\n",
    "    #     print(ep.freq ,':', ep.evnts, '\\n', ep.edges, '\\n')\n",
    "print(level_counter)\n",
    "\n",
    "# level_counter = [0]*10\n",
    "# for ep in Freq_closed_ep:\n",
    "#     level_counter[len(ep.evnts)-1] += 1\n",
    "#     # if len(ep.evnts) == 2:\n",
    "#     #     print(ep.freq ,':', ep.evnts, '\\n', ep.edges, '\\n')\n",
    "# print(level_counter)"
   ]
  },
  {
   "cell_type": "code",
   "execution_count": 13,
   "metadata": {
    "tags": []
   },
   "outputs": [],
   "source": [
    "# count = 0\n",
    "# for ep in Freq_ep:\n",
    "#     if ep.fclosed == True:\n",
    "#         count += 1\n",
    "# print(candidates,frequents,len(Freq_ep),count,len(Freq_closed_ep))"
   ]
  },
  {
   "cell_type": "code",
   "execution_count": 14,
   "metadata": {
    "tags": []
   },
   "outputs": [],
   "source": [
    "# Freq2_ep = []\n",
    "# for ep in Freq_ep:\n",
    "#     if ep.fclosed == True:\n",
    "#         Freq2_ep.append(ep)\n",
    "# Freq2_closed_ep = Find_Closed_levelwise(Freq2_ep)\n",
    "# print(candidates, frequents, len(Freq_ep), len(Freq2_ep), len(Freq_closed_ep), len(Freq2_closed_ep))"
   ]
  },
  {
   "cell_type": "code",
   "execution_count": 15,
   "metadata": {
    "tags": []
   },
   "outputs": [],
   "source": [
    "# Freq3_ep = []\n",
    "# for ep in Freq_ep:\n",
    "#     if ep.appclosed == True:\n",
    "#         Freq3_ep.append(ep)\n",
    "# Freq3_closed_ep = Find_Closed_levelwise(Freq3_ep)\n",
    "# print(len(Freq3_ep), len(Freq3_closed_ep))"
   ]
  },
  {
   "cell_type": "code",
   "execution_count": 16,
   "metadata": {
    "tags": []
   },
   "outputs": [],
   "source": [
    "# for ep in Freq3_closed_ep:\n",
    "#     if len(ep.evnts) == 6:\n",
    "#         print(ep.freq ,':', ep.evnts, '\\n', ep.edges, '\\n')"
   ]
  },
  {
   "cell_type": "code",
   "execution_count": 17,
   "metadata": {
    "tags": []
   },
   "outputs": [],
   "source": [
    "# sum([True, False, True])"
   ]
  }
 ],
 "metadata": {
  "kernelspec": {
   "display_name": "Python 3 (ipykernel)",
   "language": "python",
   "name": "python3"
  },
  "language_info": {
   "codemirror_mode": {
    "name": "ipython",
    "version": 3
   },
   "file_extension": ".py",
   "mimetype": "text/x-python",
   "name": "python",
   "nbconvert_exporter": "python",
   "pygments_lexer": "ipython3",
   "version": "3.10.12"
  }
 },
 "nbformat": 4,
 "nbformat_minor": 4
}
