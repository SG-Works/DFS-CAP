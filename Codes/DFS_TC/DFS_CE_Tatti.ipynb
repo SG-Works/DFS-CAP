{
 "cells": [
  {
   "cell_type": "code",
   "execution_count": 1,
   "metadata": {
    "tags": []
   },
   "outputs": [],
   "source": [
    "import time\n",
    "M = 5\n",
    "N = 5"
   ]
  },
  {
   "cell_type": "code",
   "execution_count": 2,
   "metadata": {
    "tags": []
   },
   "outputs": [],
   "source": [
    "class def_episode:\n",
    "    def __init__(self, evnts, edge_set, lastevnt):\n",
    "        self.freq = 0\n",
    "        self.evnts = evnts.copy()\n",
    "        self.edges = edge_set.copy()\n",
    "        self.lastevnt = lastevnt"
   ]
  },
  {
   "cell_type": "code",
   "execution_count": 3,
   "metadata": {
    "jupyter": {
     "source_hidden": true
    },
    "tags": []
   },
   "outputs": [],
   "source": [
    "def PCENOX_Span_Recursive(parent_epi):\n",
    "    global candidates, frequents\n",
    "    \n",
    "    \n",
    "    if len(parent_epi.evnts) >= N:\n",
    "        return\n",
    "    \n",
    "    lastevntid = alph.index(parent_epi.lastevnt)\n",
    "    for new_evnt in alph[lastevntid:]:\n",
    "        candidates += 1\n",
    "        if new_evnt == parent_epi.lastevnt:\n",
    "            newedges = set()\n",
    "            for k in range(len(parent_epi.evnts)):\n",
    "                if parent_epi.evnts[k] == new_evnt:\n",
    "                    newedges.add((k,len(parent_epi.evnts)))\n",
    "            edgeset = parent_epi.edges|newedges\n",
    "        else:\n",
    "            edgeset = parent_epi.edges.copy()\n",
    "        \n",
    "        \n",
    "        frequents += 1\n",
    "        child_evnts = parent_epi.evnts+[new_evnt]\n",
    "        child_epi = def_episode(child_evnts,edgeset,new_evnt)\n",
    "        Freq_ep.append(child_epi)\n",
    "        CENOX_Span_Recursive(child_epi,set())\n",
    "        PCENOX_Span_Recursive(child_epi)\n",
    "    return"
   ]
  },
  {
   "cell_type": "code",
   "execution_count": 4,
   "metadata": {
    "jupyter": {
     "source_hidden": true
    },
    "tags": []
   },
   "outputs": [],
   "source": [
    "def CENOX_Span_Recursive(parent_epi,forbidden_edges):\n",
    "    global candidates, frequents\n",
    "    \n",
    "    \n",
    "    for evnt1_id in range(len(parent_epi.evnts)):\n",
    "        for evnt2_id in range(len(parent_epi.evnts)):\n",
    "            new_edge = (evnt1_id,evnt2_id)\n",
    "            if evnt1_id == evnt2_id:\n",
    "                continue\n",
    "            if new_edge in parent_epi.edges:\n",
    "                continue\n",
    "            if new_edge in forbidden_edges:\n",
    "                continue\n",
    "            if ValidateEdges(parent_epi.edges,new_edge) == True:\n",
    "                candidates += 1\n",
    "                \n",
    "                frequents += 1\n",
    "                child_epi = def_episode(parent_epi.evnts,parent_epi.edges|{new_edge},parent_epi.lastevnt)\n",
    "                Freq_ep.append(child_epi)\n",
    "                CENOX_Span_Recursive(child_epi,forbidden_edges)\n",
    "                \n",
    "                forbidden_edges = forbidden_edges|{new_edge}\n",
    "                \n",
    "    return"
   ]
  },
  {
   "cell_type": "code",
   "execution_count": 5,
   "metadata": {
    "jupyter": {
     "source_hidden": true
    },
    "tags": []
   },
   "outputs": [],
   "source": [
    "def ValidateEdges(edges, new_edge):\n",
    "    e1 = new_edge[0]\n",
    "    e2 = new_edge[1]\n",
    "    if (e2,e1) in edges:\n",
    "        return False\n",
    "    for edge in edges:\n",
    "        if edge[1] == e1 and (edge[0], e2) not in edges:\n",
    "            return False\n",
    "        if edge[0] == e2 and (e1, edge[1]) not in edges:\n",
    "            return False\n",
    "        \n",
    "    return True"
   ]
  },
  {
   "cell_type": "code",
   "execution_count": 6,
   "metadata": {
    "jupyter": {
     "source_hidden": true
    },
    "scrolled": true,
    "tags": []
   },
   "outputs": [
    {
     "name": "stdout",
     "output_type": "stream",
     "text": [
      "time:  0.6876020431518555\n",
      "Number of closed frequent episodes is  49601\n"
     ]
    }
   ],
   "source": [
    "global candidates, frequents, Freq_ep\n",
    "\n",
    "time_start = time.time()\n",
    "\n",
    "alph = list()\n",
    "F1_ep = list()\n",
    "freq_alph = list()\n",
    "for ev in range(M):\n",
    "    alph.append(str(ev))\n",
    "    F1_ep.append(def_episode([str(ev)],set(),str(ev)))\n",
    "\n",
    "\n",
    "candidates = len(alph)\n",
    "frequents = len(F1_ep)\n",
    "Freq_ep = list()\n",
    "Block = list()\n",
    "for parent_epi in F1_ep:\n",
    "    Freq_ep.append(parent_epi)\n",
    "    E = parent_epi.lastevnt\n",
    "    PCENOX_Span_Recursive(parent_epi)\n",
    "        \n",
    "\n",
    "    \n",
    "time_end = time.time()\n",
    "time_run = time_end-time_start\n",
    "print(\"time: \", time_run)\n",
    "print(\"Number of closed frequent episodes is \", len(Freq_ep))"
   ]
  },
  {
   "cell_type": "code",
   "execution_count": 7,
   "metadata": {
    "tags": []
   },
   "outputs": [
    {
     "name": "stdout",
     "output_type": "stream",
     "text": [
      "49601 49601 49601\n"
     ]
    }
   ],
   "source": [
    "print(candidates, frequents, len(Freq_ep))"
   ]
  },
  {
   "cell_type": "code",
   "execution_count": 8,
   "metadata": {},
   "outputs": [
    {
     "name": "stdout",
     "output_type": "stream",
     "text": [
      "[5, 35, 315, 3480, 45766]\n"
     ]
    }
   ],
   "source": [
    "level_counter = [0]*N\n",
    "for ep in Freq_ep:\n",
    "    level_counter[len(ep.evnts)-1] += 1\n",
    "print(level_counter)"
   ]
  }
 ],
 "metadata": {
  "kernelspec": {
   "display_name": "Python 3 (ipykernel)",
   "language": "python",
   "name": "python3"
  },
  "language_info": {
   "codemirror_mode": {
    "name": "ipython",
    "version": 3
   },
   "file_extension": ".py",
   "mimetype": "text/x-python",
   "name": "python",
   "nbconvert_exporter": "python",
   "pygments_lexer": "ipython3",
   "version": "3.10.12"
  }
 },
 "nbformat": 4,
 "nbformat_minor": 4
}
