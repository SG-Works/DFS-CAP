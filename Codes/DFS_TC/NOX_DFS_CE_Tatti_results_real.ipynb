{
 "cells": [
  {
   "cell_type": "code",
   "execution_count": 1,
   "metadata": {
    "tags": []
   },
   "outputs": [],
   "source": [
    "import time"
   ]
  },
  {
   "cell_type": "code",
   "execution_count": 2,
   "metadata": {
    "jupyter": {
     "source_hidden": true
    },
    "tags": []
   },
   "outputs": [],
   "source": [
    "class def_episode:\n",
    "    def __init__(self, evnts, edge_set, lastevnt):\n",
    "        self.freq = 0\n",
    "        self.evnts = evnts.copy()\n",
    "        self.edges = edge_set.copy()\n",
    "        self.lastevnt = lastevnt"
   ]
  },
  {
   "cell_type": "code",
   "execution_count": 3,
   "metadata": {
    "jupyter": {
     "source_hidden": true
    },
    "tags": []
   },
   "outputs": [],
   "source": [
    "def PCENOX_Span_Recursive(parent_epi,AO_list_parent,AO_windows_parent,Tx,FT):\n",
    "    global candidates, frequents\n",
    "    \n",
    "    lastevntid = alph.index(parent_epi.lastevnt)\n",
    "    for new_evnt in alph[lastevntid:]:\n",
    "        candidates += 1\n",
    "        if new_evnt == parent_epi.lastevnt:\n",
    "            repeat = True\n",
    "            newedges = set()\n",
    "            for k in range(len(parent_epi.evnts)):\n",
    "                if parent_epi.evnts[k] == new_evnt:\n",
    "                    newedges.add((k,len(parent_epi.evnts)))\n",
    "            edgeset = parent_epi.edges|newedges\n",
    "        else:\n",
    "            repeat = False\n",
    "            edgeset = parent_epi.edges.copy()\n",
    "        \n",
    "        AO_list_child, AO_windows_child = Compute_AO_Span_list_PCE(AO_list_parent, AO_windows_parent, new_evnt, repeat, Tx)\n",
    "        NO_freq_child = Find_NO_Count(AO_windows_child)\n",
    "        \n",
    "        if NO_freq_child >= FT:\n",
    "            frequents += 1\n",
    "            child_evnts = parent_epi.evnts+[new_evnt]\n",
    "            child_epi = def_episode(child_evnts,edgeset,new_evnt)\n",
    "            child_epi.freq = NO_freq_child\n",
    "            Freq_ep.append(child_epi)\n",
    "            CENOX_Span_Recursive(child_epi,AO_list_child,AO_windows_child,set(),Tx,FT)\n",
    "            PCENOX_Span_Recursive(child_epi,AO_list_child,AO_windows_child,Tx,FT)\n",
    "\n",
    "#         child_evnts = parent_epi.evnts+[new_evnt]\n",
    "#         child_epi = def_episode(child_evnts,set(),new_evnt)\n",
    "#         Checkclosure(child_epi)\n",
    "#         IGENOX_Span_Recursive(child_epi,list(),list(),set(),Tx,FT)\n",
    "#         IPENOX_Span_Recursive(child_epi,list(),list(),Tx,FT)"
   ]
  },
  {
   "cell_type": "code",
   "execution_count": 4,
   "metadata": {
    "jupyter": {
     "source_hidden": true
    },
    "tags": []
   },
   "outputs": [],
   "source": [
    "def CENOX_Span_Recursive(parent_epi,AO_list_parent,AO_windows_parent,forbidden_edges,Tx,FT):\n",
    "    global candidates, frequents\n",
    "    \n",
    "    for evnt1_id in range(len(parent_epi.evnts)):\n",
    "        for evnt2_id in range(len(parent_epi.evnts)):\n",
    "            new_edge = (evnt1_id,evnt2_id)\n",
    "            if evnt1_id == evnt2_id:\n",
    "                continue\n",
    "            if new_edge in parent_epi.edges:\n",
    "                continue\n",
    "            if new_edge in forbidden_edges:\n",
    "                continue\n",
    "            if ValidateEdges(parent_epi.edges,new_edge) == True:\n",
    "                candidates += 1\n",
    "                AO_list_child, AO_windows_child = Compute_AO_Span_list_CE(AO_list_parent, AO_windows_parent, evnt1_id, evnt2_id)\n",
    "                NO_freq_child = Find_NO_Count(AO_windows_child)\n",
    "                \n",
    "                if NO_freq_child >= FT:\n",
    "                    frequents += 1\n",
    "                    child_epi = def_episode(parent_epi.evnts,parent_epi.edges|{new_edge},parent_epi.lastevnt)\n",
    "                    child_epi.freq = NO_freq_child\n",
    "                    Checkclosure(child_epi)\n",
    "                    CENOX_Span_Recursive(child_epi,AO_list_child,AO_windows_child,forbidden_edges,Tx,FT)\n",
    "                \n",
    "#                 child_epi = def_episode(parent_epi.evnts,parent_epi.edges|{new_edge},parent_epi.lastevnt)\n",
    "#                 Checkclosure(child_epi)\n",
    "#                 IGENOX_Span_Recursive(child_epi,list(),list(),forbidden_edges,Tx,FT)\n",
    "\n",
    "                forbidden_edges = forbidden_edges|{new_edge}"
   ]
  },
  {
   "cell_type": "code",
   "execution_count": 5,
   "metadata": {
    "jupyter": {
     "source_hidden": true
    },
    "tags": []
   },
   "outputs": [],
   "source": [
    "def ValidateEdges(edges, new_edge):\n",
    "    e1 = new_edge[0]\n",
    "    e2 = new_edge[1]\n",
    "    if (e2,e1) in edges:\n",
    "        return False\n",
    "    for edge in edges:\n",
    "        if edge[1] == e1 and (edge[0], e2) not in edges:\n",
    "            return False\n",
    "        if edge[0] == e2 and (e1, edge[1]) not in edges:\n",
    "            return False\n",
    "        \n",
    "    return True"
   ]
  },
  {
   "cell_type": "code",
   "execution_count": 6,
   "metadata": {
    "jupyter": {
     "source_hidden": true
    },
    "tags": []
   },
   "outputs": [],
   "source": [
    "def Compute_AO_Span_list_PCE(AO_list_parent, AO_windows_parent, new_event, repeat, Tx):\n",
    "    global AO_list\n",
    "    AO_list_child = list()\n",
    "    AO_windows_child = list()\n",
    "    for k in range(len(AO_list_parent)):\n",
    "        occ_tuple = AO_list_parent[k]\n",
    "        occ_win = AO_windows_parent[k]\n",
    "        if repeat:\n",
    "            st = occ_tuple[-1]+1\n",
    "        else:\n",
    "            st = occ_win[1]-Tx\n",
    "        end = occ_win[0]+Tx+1\n",
    "        for tm in range(st,end):\n",
    "            if tm in AO_list[new_event]:\n",
    "                AO_list_child.append(occ_tuple+[tm])\n",
    "                AO_windows_child.append((min(occ_win[0],tm),max(occ_win[1],tm)))\n",
    "    sorted_id = sorted(range(len(AO_windows_child)),key=AO_windows_child.__getitem__)\n",
    "    AO_list_child_sorted = list([])\n",
    "    AO_windows_child_sorted = list([])\n",
    "    for sid in sorted_id:\n",
    "        AO_list_child_sorted.append(AO_list_child[sid])\n",
    "        AO_windows_child_sorted.append(AO_windows_child[sid])\n",
    "    return AO_list_child_sorted, AO_windows_child_sorted"
   ]
  },
  {
   "cell_type": "code",
   "execution_count": 7,
   "metadata": {
    "jupyter": {
     "source_hidden": true
    },
    "tags": []
   },
   "outputs": [],
   "source": [
    "def Compute_AO_Span_list_CE(AO_list_parent, AO_windows_parent, eid1, eid2):\n",
    "    AO_list_child_sorted = list([])\n",
    "    AO_windows_child_sorted = list([])\n",
    "    for sid in range(len(AO_list_parent)):\n",
    "        if AO_list_parent[sid][eid1] < AO_list_parent[sid][eid2]:\n",
    "            AO_list_child_sorted.append(AO_list_parent[sid])\n",
    "            AO_windows_child_sorted.append(AO_windows_parent[sid])\n",
    "    return AO_list_child_sorted, AO_windows_child_sorted"
   ]
  },
  {
   "cell_type": "code",
   "execution_count": 8,
   "metadata": {
    "jupyter": {
     "source_hidden": true
    },
    "tags": []
   },
   "outputs": [],
   "source": [
    "def Find_NO_Count(ep_AO_win):\n",
    "    l = len(ep_AO_win)\n",
    "    if l == 0:\n",
    "        return l\n",
    "#     ts = -1\n",
    "    te = -1\n",
    "    fno = 0\n",
    "    for win in ep_AO_win:\n",
    "        if win[0] > te:\n",
    "            fno += 1\n",
    "            te = win[1]\n",
    "        elif win[1] < te:\n",
    "            te = win[1]\n",
    "    return fno"
   ]
  },
  {
   "cell_type": "code",
   "execution_count": 9,
   "metadata": {
    "jupyter": {
     "source_hidden": true
    },
    "tags": []
   },
   "outputs": [],
   "source": [
    "def Checkclosure(new_epi):\n",
    "    global Freq_ep\n",
    "    p = 0\n",
    "    len_Freq_ep = len(Freq_ep)\n",
    "    while p < len_Freq_ep:\n",
    "        if Freq_ep[p].freq == new_epi.freq:\n",
    "            if new_epi.evnts == Freq_ep[p].evnts:\n",
    "                if new_epi.edges.issubset(Freq_ep[p].edges):\n",
    "                    return\n",
    "                if Freq_ep[p].edges.issubset(new_epi.edges):\n",
    "                    Freq_ep.remove(Freq_ep[p])\n",
    "                    len_Freq_ep -= 1 #len(Freq_ep)\n",
    "                    p = -1\n",
    "        p += 1\n",
    "    Freq_ep.append(new_epi)"
   ]
  },
  {
   "cell_type": "code",
   "execution_count": 10,
   "metadata": {
    "tags": []
   },
   "outputs": [],
   "source": [
    "global alph, evnt_id, AO_list\n",
    "\n",
    "evnt_strm = list()\n",
    "\n",
    "# print('Enter the link of the txt file containing the event stream (for example: ./../../DataSynthetic/Dataspecs1_Dataset_M=60_N=2_rho=0.055_p=0.07_eta=0.7_T=10000_evnt_strm_set=0.txt)')\n",
    "# name = input()\n",
    "# print('Enter the Expiry time \"Tx\": (Better option would be (lenght of the longest pattern)/eta)')\n",
    "# Tx = int(input())\n",
    "# print('Enter the frequency threshold \"FT\": (Better option would be T/(1/p+Tx) -1)')\n",
    "# FT = int(input()) \n",
    "\n",
    "\n",
    "# name = sys.argv[1]\n",
    "# Tx = float(sys.argv[2])\n",
    "# FT = float(sys.argv[3])\n",
    "\n",
    "name = './../../DataReal/address_data.txt'\n",
    "# name = './../../DataReal/whale_data.txt'\n",
    "Tx = 10\n",
    "FT = 100\n",
    "\n",
    "# print(\"Dataset: \"+ name)\n",
    "# print(\"Expiry time: \"+ str(Tx))\n",
    "# print(\"Frequency Threshold: \"+ str(FT))"
   ]
  },
  {
   "cell_type": "code",
   "execution_count": 11,
   "metadata": {
    "scrolled": true,
    "tags": []
   },
   "outputs": [
    {
     "name": "stdout",
     "output_type": "stream",
     "text": [
      "Dataset: ./../../DataReal/address_data.txt\n",
      "Expiry time: 10\n",
      "Frequency Threshold: 100\n",
      "Number of frequent episodes is  16290\n",
      "time:  67.69376683235168\n",
      "Dataset: ./../../DataReal/address_data.txt\n",
      "Expiry time: 10\n",
      "Frequency Threshold: 100\n",
      "Number of frequent episodes is  16290\n",
      "time:  67.2890989780426\n",
      "Dataset: ./../../DataReal/address_data.txt\n",
      "Expiry time: 10\n",
      "Frequency Threshold: 100\n",
      "Number of frequent episodes is  16290\n",
      "time:  62.62876009941101\n",
      "Dataset: ./../../DataReal/address_data.txt\n",
      "Expiry time: 10\n",
      "Frequency Threshold: 100\n",
      "Number of frequent episodes is  16290\n",
      "time:  64.33503484725952\n",
      "Dataset: ./../../DataReal/address_data.txt\n",
      "Expiry time: 10\n",
      "Frequency Threshold: 100\n",
      "Number of frequent episodes is  16290\n",
      "time:  67.34475088119507\n",
      "Dataset: ./../../DataReal/address_data.txt\n",
      "Expiry time: 10\n",
      "Frequency Threshold: 100\n",
      "Number of frequent episodes is  16290\n",
      "time:  67.27164101600647\n",
      "Dataset: ./../../DataReal/address_data.txt\n",
      "Expiry time: 10\n",
      "Frequency Threshold: 100\n",
      "Number of frequent episodes is  16290\n",
      "time:  66.38823556900024\n",
      "Dataset: ./../../DataReal/address_data.txt\n",
      "Expiry time: 10\n",
      "Frequency Threshold: 100\n"
     ]
    },
    {
     "ename": "KeyboardInterrupt",
     "evalue": "",
     "output_type": "error",
     "traceback": [
      "\u001b[0;31m---------------------------------------------------------------------------\u001b[0m",
      "\u001b[0;31mKeyboardInterrupt\u001b[0m                         Traceback (most recent call last)",
      "Cell \u001b[0;32mIn[11], line 60\u001b[0m\n\u001b[1;32m     58\u001b[0m     AO_windows_E \u001b[38;5;241m=\u001b[39m \u001b[38;5;28mlist\u001b[39m(\u001b[38;5;28mmap\u001b[39m(\u001b[38;5;28;01mlambda\u001b[39;00m el:(el,el), AO_list_E))\n\u001b[1;32m     59\u001b[0m     AO_list_E \u001b[38;5;241m=\u001b[39m \u001b[38;5;28mlist\u001b[39m(\u001b[38;5;28mmap\u001b[39m(\u001b[38;5;28;01mlambda\u001b[39;00m el:[el], AO_list_E))\n\u001b[0;32m---> 60\u001b[0m     PCENOX_Span_Recursive(parent_epi,AO_list_E,AO_windows_E,Tx,FT)\n\u001b[1;32m     63\u001b[0m \u001b[38;5;28mprint\u001b[39m(\u001b[38;5;124m\"\u001b[39m\u001b[38;5;124mNumber of frequent episodes is \u001b[39m\u001b[38;5;124m\"\u001b[39m, \u001b[38;5;28mlen\u001b[39m(Freq_ep))\n\u001b[1;32m     64\u001b[0m \u001b[38;5;66;03m# for ep in Freq_ep:\u001b[39;00m\n\u001b[1;32m     65\u001b[0m \u001b[38;5;66;03m#     print(ep.freq ,':', ep.evnts, ep.edges)\u001b[39;00m\n\u001b[1;32m     66\u001b[0m \n\u001b[1;32m     67\u001b[0m \u001b[38;5;66;03m# Freq_closed_ep = Find_Closed(Freq_ep)\u001b[39;00m\n",
      "Cell \u001b[0;32mIn[3], line 28\u001b[0m, in \u001b[0;36mPCENOX_Span_Recursive\u001b[0;34m(parent_epi, AO_list_parent, AO_windows_parent, Tx, FT)\u001b[0m\n\u001b[1;32m     26\u001b[0m Freq_ep\u001b[38;5;241m.\u001b[39mappend(child_epi)\n\u001b[1;32m     27\u001b[0m CENOX_Span_Recursive(child_epi,AO_list_child,AO_windows_child,\u001b[38;5;28mset\u001b[39m(),Tx,FT)\n\u001b[0;32m---> 28\u001b[0m PCENOX_Span_Recursive(child_epi,AO_list_child,AO_windows_child,Tx,FT)\n",
      "Cell \u001b[0;32mIn[3], line 27\u001b[0m, in \u001b[0;36mPCENOX_Span_Recursive\u001b[0;34m(parent_epi, AO_list_parent, AO_windows_parent, Tx, FT)\u001b[0m\n\u001b[1;32m     25\u001b[0m child_epi\u001b[38;5;241m.\u001b[39mfreq \u001b[38;5;241m=\u001b[39m NO_freq_child\n\u001b[1;32m     26\u001b[0m Freq_ep\u001b[38;5;241m.\u001b[39mappend(child_epi)\n\u001b[0;32m---> 27\u001b[0m CENOX_Span_Recursive(child_epi,AO_list_child,AO_windows_child,\u001b[38;5;28mset\u001b[39m(),Tx,FT)\n\u001b[1;32m     28\u001b[0m PCENOX_Span_Recursive(child_epi,AO_list_child,AO_windows_child,Tx,FT)\n",
      "Cell \u001b[0;32mIn[4], line 23\u001b[0m, in \u001b[0;36mCENOX_Span_Recursive\u001b[0;34m(parent_epi, AO_list_parent, AO_windows_parent, forbidden_edges, Tx, FT)\u001b[0m\n\u001b[1;32m     21\u001b[0m                     child_epi\u001b[38;5;241m.\u001b[39mfreq \u001b[38;5;241m=\u001b[39m NO_freq_child\n\u001b[1;32m     22\u001b[0m                     Checkclosure(child_epi)\n\u001b[0;32m---> 23\u001b[0m                     CENOX_Span_Recursive(child_epi,AO_list_child,AO_windows_child,forbidden_edges,Tx,FT)\n\u001b[1;32m     25\u001b[0m \u001b[38;5;66;03m#                 child_epi = def_episode(parent_epi.evnts,parent_epi.edges|{new_edge},parent_epi.lastevnt)\u001b[39;00m\n\u001b[1;32m     26\u001b[0m \u001b[38;5;66;03m#                 Checkclosure(child_epi)\u001b[39;00m\n\u001b[1;32m     27\u001b[0m \u001b[38;5;66;03m#                 IGENOX_Span_Recursive(child_epi,list(),list(),forbidden_edges,Tx,FT)\u001b[39;00m\n\u001b[1;32m     29\u001b[0m                 forbidden_edges \u001b[38;5;241m=\u001b[39m forbidden_edges\u001b[38;5;241m|\u001b[39m{new_edge}\n",
      "Cell \u001b[0;32mIn[4], line 22\u001b[0m, in \u001b[0;36mCENOX_Span_Recursive\u001b[0;34m(parent_epi, AO_list_parent, AO_windows_parent, forbidden_edges, Tx, FT)\u001b[0m\n\u001b[1;32m     20\u001b[0m                     child_epi \u001b[38;5;241m=\u001b[39m def_episode(parent_epi\u001b[38;5;241m.\u001b[39mevnts,parent_epi\u001b[38;5;241m.\u001b[39medges\u001b[38;5;241m|\u001b[39m{new_edge},parent_epi\u001b[38;5;241m.\u001b[39mlastevnt)\n\u001b[1;32m     21\u001b[0m                     child_epi\u001b[38;5;241m.\u001b[39mfreq \u001b[38;5;241m=\u001b[39m NO_freq_child\n\u001b[0;32m---> 22\u001b[0m                     Checkclosure(child_epi)\n\u001b[1;32m     23\u001b[0m                     CENOX_Span_Recursive(child_epi,AO_list_child,AO_windows_child,forbidden_edges,Tx,FT)\n\u001b[1;32m     25\u001b[0m \u001b[38;5;66;03m#                 child_epi = def_episode(parent_epi.evnts,parent_epi.edges|{new_edge},parent_epi.lastevnt)\u001b[39;00m\n\u001b[1;32m     26\u001b[0m \u001b[38;5;66;03m#                 Checkclosure(child_epi)\u001b[39;00m\n\u001b[1;32m     27\u001b[0m \u001b[38;5;66;03m#                 IGENOX_Span_Recursive(child_epi,list(),list(),forbidden_edges,Tx,FT)\u001b[39;00m\n",
      "Cell \u001b[0;32mIn[9], line 5\u001b[0m, in \u001b[0;36mCheckclosure\u001b[0;34m(new_epi)\u001b[0m\n\u001b[1;32m      3\u001b[0m p \u001b[38;5;241m=\u001b[39m \u001b[38;5;241m0\u001b[39m\n\u001b[1;32m      4\u001b[0m len_Freq_ep \u001b[38;5;241m=\u001b[39m \u001b[38;5;28mlen\u001b[39m(Freq_ep)\n\u001b[0;32m----> 5\u001b[0m \u001b[38;5;28;01mwhile\u001b[39;00m p \u001b[38;5;241m<\u001b[39m len_Freq_ep:\n\u001b[1;32m      6\u001b[0m     \u001b[38;5;28;01mif\u001b[39;00m Freq_ep[p]\u001b[38;5;241m.\u001b[39mfreq \u001b[38;5;241m==\u001b[39m new_epi\u001b[38;5;241m.\u001b[39mfreq:\n\u001b[1;32m      7\u001b[0m         \u001b[38;5;28;01mif\u001b[39;00m new_epi\u001b[38;5;241m.\u001b[39mevnts \u001b[38;5;241m==\u001b[39m Freq_ep[p]\u001b[38;5;241m.\u001b[39mevnts:\n",
      "\u001b[0;31mKeyboardInterrupt\u001b[0m: "
     ]
    }
   ],
   "source": [
    "global candidates, frequents, Freq_ep\n",
    "\n",
    "N_set = 10\n",
    "avg_time = 0\n",
    "avg_mem = 0\n",
    "for n_set in range(N_set):\n",
    "    \n",
    "    time_start = time.time()\n",
    "    \n",
    "    print(\"Dataset: \"+ name)\n",
    "    print(\"Expiry time: \"+ str(Tx))\n",
    "    print(\"Frequency Threshold: \"+ str(FT))\n",
    "    \n",
    "    \n",
    "    alph_org = set()\n",
    "    evnt_id = {}\n",
    "    AO_list = {}\n",
    "    count = 0\n",
    "    with open(name,'r') as f:\n",
    "        for line in f:\n",
    "            entry = line.split(',')\n",
    "            event = entry[0]\n",
    "            tm = int(entry[1][:-1])\n",
    "            if event not in alph_org:\n",
    "                alph_org.add(event)\n",
    "                evnt_id[event] = count\n",
    "\n",
    "                AO_list[event] = set()\n",
    "                count += 1\n",
    "            AO_list[event].add(tm)\n",
    "\n",
    "    alph = list()\n",
    "    F1_ep = list()\n",
    "    freq_alph = list()\n",
    "    for ev in alph_org:\n",
    "        fr = len(AO_list[ev])\n",
    "        if fr >= FT:\n",
    "            freq_alph.append([fr,ev])\n",
    "\n",
    "\n",
    "    Freq_ep = list()\n",
    "    for (fr,ev) in freq_alph:\n",
    "        alph.append(ev)\n",
    "        F1_ep.append(def_episode([ev],set(),ev))\n",
    "        F1_ep[-1].freq = fr\n",
    "        Freq_ep.append(def_episode([ev],set(),ev))\n",
    "        Freq_ep[-1].freq = fr\n",
    "\n",
    "\n",
    "    candidates = len(alph_org)\n",
    "    frequents = len(F1_ep)\n",
    "    for parent_epi in F1_ep:\n",
    "        Freq_ep.append(parent_epi)\n",
    "        E = parent_epi.lastevnt\n",
    "        AO_list_E = list(AO_list[E])\n",
    "        AO_list_E.sort()\n",
    "        AO_windows_E = list(map(lambda el:(el,el), AO_list_E))\n",
    "        AO_list_E = list(map(lambda el:[el], AO_list_E))\n",
    "        PCENOX_Span_Recursive(parent_epi,AO_list_E,AO_windows_E,Tx,FT)\n",
    "\n",
    "\n",
    "    print(\"Number of frequent episodes is \", len(Freq_ep))\n",
    "    # for ep in Freq_ep:\n",
    "    #     print(ep.freq ,':', ep.evnts, ep.edges)\n",
    "\n",
    "    # Freq_closed_ep = Find_Closed(Freq_ep)\n",
    "\n",
    "    time_end = time.time()\n",
    "    time_run = time_end-time_start\n",
    "    print(\"time: \", time_run)\n",
    "    avg_time += time_run\n",
    "    # print(\"Number of closed frequent episodes is \", len(Freq_closed_ep))\n",
    "\n",
    "    # print('The following are the closed frequent episodes discovered')\n",
    "    # for ep in Freq_closed_ep:\n",
    "    #     print(ep.freq ,':', ep.evnts, ep.edges) \n",
    "\n",
    "avg_time = avg_time/N_set\n",
    "print(\"Average Run time: \", avg_time)"
   ]
  },
  {
   "cell_type": "code",
   "execution_count": null,
   "metadata": {
    "tags": []
   },
   "outputs": [],
   "source": [
    "# print(candidates, frequents, len(Freq_ep))"
   ]
  },
  {
   "cell_type": "code",
   "execution_count": null,
   "metadata": {
    "tags": []
   },
   "outputs": [],
   "source": [
    "# for ep in Freq_ep:\n",
    "#     if len(ep.evnts) == 6:\n",
    "#         print(ep.freq ,':', ep.evnts, '\\n', ep.edges, '\\n')"
   ]
  }
 ],
 "metadata": {
  "kernelspec": {
   "display_name": "Python 3 (ipykernel)",
   "language": "python",
   "name": "python3"
  },
  "language_info": {
   "codemirror_mode": {
    "name": "ipython",
    "version": 3
   },
   "file_extension": ".py",
   "mimetype": "text/x-python",
   "name": "python",
   "nbconvert_exporter": "python",
   "pygments_lexer": "ipython3",
   "version": "3.11.5"
  }
 },
 "nbformat": 4,
 "nbformat_minor": 4
}
